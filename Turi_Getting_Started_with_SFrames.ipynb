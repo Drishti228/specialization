{
  "cells": [
    {
      "cell_type": "markdown",
      "metadata": {
        "id": "view-in-github",
        "colab_type": "text"
      },
      "source": [
        "<a href=\"https://colab.research.google.com/github/Drishti228/specialization/blob/main/Turi_Getting_Started_with_SFrames.ipynb\" target=\"_parent\"><img src=\"https://colab.research.google.com/assets/colab-badge.svg\" alt=\"Open In Colab\"/></a>"
      ]
    },
    {
      "cell_type": "markdown",
      "metadata": {
        "id": "ZTWJa3HIzuwF"
      },
      "source": [
        "# Fire up Turi Create\n",
        "\n",
        "We always start with this line before using any part of Turi Create"
      ]
    },
    {
      "cell_type": "code",
      "execution_count": null,
      "metadata": {
        "id": "wgvgwNKszuwa"
      },
      "outputs": [],
      "source": [
        "import turicreate"
      ]
    },
    {
      "cell_type": "markdown",
      "metadata": {
        "id": "mlK7lRW5zuwj"
      },
      "source": [
        "# Load a tabular data set"
      ]
    },
    {
      "cell_type": "code",
      "execution_count": null,
      "metadata": {
        "id": "Jv_qUah0zuwm"
      },
      "outputs": [],
      "source": [
        "sf = turicreate.SFrame('people-example.csv')"
      ]
    },
    {
      "cell_type": "markdown",
      "metadata": {
        "id": "CXVEzqrWzuwp"
      },
      "source": [
        "# SFrame basics"
      ]
    },
    {
      "cell_type": "code",
      "execution_count": null,
      "metadata": {
        "id": "MqvhO81Nzuws"
      },
      "outputs": [],
      "source": [
        "sf #we can view first few lines of table"
      ]
    },
    {
      "cell_type": "code",
      "execution_count": null,
      "metadata": {
        "id": "4I3DUUXozuww"
      },
      "outputs": [],
      "source": [
        "sf.tail()  # view end of the table"
      ]
    },
    {
      "cell_type": "markdown",
      "metadata": {
        "id": "qdjY_-8Tzuw0"
      },
      "source": [
        "# Turi Create visualization"
      ]
    },
    {
      "cell_type": "code",
      "execution_count": null,
      "metadata": {
        "id": "WDBuajijzuw2"
      },
      "outputs": [],
      "source": [
        "# .show() visualizes any data structure in Turi Create\n",
        "sf.show()"
      ]
    },
    {
      "cell_type": "code",
      "execution_count": null,
      "metadata": {
        "id": "rCL46cQszuw6"
      },
      "outputs": [],
      "source": [
        "sf['age'].show()"
      ]
    },
    {
      "cell_type": "markdown",
      "metadata": {
        "id": "6_dRFaYOzuw8"
      },
      "source": [
        "# Inspect columns of dataset"
      ]
    },
    {
      "cell_type": "code",
      "execution_count": null,
      "metadata": {
        "id": "nuEnSCg3zuw-"
      },
      "outputs": [],
      "source": [
        "sf['Country']"
      ]
    },
    {
      "cell_type": "code",
      "execution_count": null,
      "metadata": {
        "id": "6q2_3WVUzuxA"
      },
      "outputs": [],
      "source": [
        "sf['age']"
      ]
    },
    {
      "cell_type": "markdown",
      "metadata": {
        "id": "gKUhQX8gzuxD"
      },
      "source": [
        "Some simple columnar operations"
      ]
    },
    {
      "cell_type": "code",
      "execution_count": null,
      "metadata": {
        "id": "5wwCtBESzuxF"
      },
      "outputs": [],
      "source": [
        "sf['age'].mean()"
      ]
    },
    {
      "cell_type": "code",
      "execution_count": null,
      "metadata": {
        "id": "PXv0pG2SzuxG"
      },
      "outputs": [],
      "source": [
        "sf['age'].max()"
      ]
    },
    {
      "cell_type": "markdown",
      "metadata": {
        "id": "YOsDXaNSzuxH"
      },
      "source": [
        "# Create new columns in our SFrame"
      ]
    },
    {
      "cell_type": "code",
      "execution_count": null,
      "metadata": {
        "id": "LiLiX0N9zuxJ"
      },
      "outputs": [],
      "source": [
        "sf"
      ]
    },
    {
      "cell_type": "code",
      "execution_count": null,
      "metadata": {
        "id": "mbFjcOq_zuxJ"
      },
      "outputs": [],
      "source": [
        "sf['Full Name'] = sf['First Name'] + ' ' + sf['Last Name']"
      ]
    },
    {
      "cell_type": "code",
      "execution_count": null,
      "metadata": {
        "id": "AoAjn-QWzuxL"
      },
      "outputs": [],
      "source": [
        "sf"
      ]
    },
    {
      "cell_type": "code",
      "execution_count": null,
      "metadata": {
        "id": "EjeWiWonzuxM"
      },
      "outputs": [],
      "source": [
        "sf['age'] * sf['age']"
      ]
    },
    {
      "cell_type": "markdown",
      "metadata": {
        "id": "U1Uw_ZRKzuxN"
      },
      "source": [
        "# Use the apply function to do a advance transformation of our data"
      ]
    },
    {
      "cell_type": "code",
      "execution_count": null,
      "metadata": {
        "id": "E4d_Hp4jzuxO"
      },
      "outputs": [],
      "source": [
        "sf['Country']"
      ]
    },
    {
      "cell_type": "code",
      "execution_count": null,
      "metadata": {
        "id": "26QjbUcczuxP"
      },
      "outputs": [],
      "source": [
        "sf['Country'].show()"
      ]
    },
    {
      "cell_type": "code",
      "execution_count": null,
      "metadata": {
        "id": "vixTS-6GzuxQ"
      },
      "outputs": [],
      "source": [
        "def transform_country(country):\n",
        "    if country == 'USA':\n",
        "        return 'United States'\n",
        "    else:\n",
        "        return country"
      ]
    },
    {
      "cell_type": "code",
      "execution_count": null,
      "metadata": {
        "id": "o50Knc3azuxS"
      },
      "outputs": [],
      "source": [
        "transform_country('Brazil')"
      ]
    },
    {
      "cell_type": "code",
      "execution_count": null,
      "metadata": {
        "id": "bgLZhNmMzuxT"
      },
      "outputs": [],
      "source": [
        "transform_country('Brasil')"
      ]
    },
    {
      "cell_type": "code",
      "execution_count": null,
      "metadata": {
        "id": "wdcAVBkdzuxT"
      },
      "outputs": [],
      "source": [
        "transform_country('USA')"
      ]
    },
    {
      "cell_type": "code",
      "execution_count": null,
      "metadata": {
        "id": "zwPWIJnLzuxU"
      },
      "outputs": [],
      "source": [
        "sf['Country'].apply(transform_country)"
      ]
    },
    {
      "cell_type": "code",
      "execution_count": null,
      "metadata": {
        "id": "ItM2KvKYzuxV"
      },
      "outputs": [],
      "source": [
        "sf['Country'] = sf['Country'].apply(transform_country)"
      ]
    },
    {
      "cell_type": "code",
      "execution_count": null,
      "metadata": {
        "id": "uNu-Xl1fzuxW"
      },
      "outputs": [],
      "source": [
        "sf"
      ]
    },
    {
      "cell_type": "code",
      "execution_count": null,
      "metadata": {
        "id": "fsvXnik3zuxW"
      },
      "outputs": [],
      "source": [
        ""
      ]
    }
  ],
  "metadata": {
    "kernelspec": {
      "display_name": "Python 3",
      "language": "python",
      "name": "python3"
    },
    "language_info": {
      "codemirror_mode": {
        "name": "ipython",
        "version": 3
      },
      "file_extension": ".py",
      "mimetype": "text/x-python",
      "name": "python",
      "nbconvert_exporter": "python",
      "pygments_lexer": "ipython3",
      "version": "3.5.2"
    },
    "colab": {
      "name": "Turi Getting Started with SFrames.ipynb",
      "provenance": [],
      "include_colab_link": true
    }
  },
  "nbformat": 4,
  "nbformat_minor": 0
}